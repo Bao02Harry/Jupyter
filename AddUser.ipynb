{
 "cells": [
  {
   "cell_type": "markdown",
   "id": "9d199646-2335-4936-b1ec-20129c504558",
   "metadata": {},
   "source": [
    "# Y tuong\n",
    "* Doc file excel 20KDL.xlsx bang file source.py\n",
    "* add user vao he thong\n",
    "* add user vao file jupyterhub_config.py"
   ]
  },
  {
   "cell_type": "markdown",
   "id": "8aa79510-d8cd-4ff3-b551-b925caf99648",
   "metadata": {},
   "source": [
    "# Du lieu\n",
    "* file du lieu trong link google drive <a href =\"https://drive.google.com/file/d/1e_m5_PvHiZpuWxiViqCA3IvgDgtVGPPG/view?usp=sharing\" target =\"_blank\">here.</a>\n",
    "* Download, giai nen, dat folder Add_User_Jupyterhub trong thu muc admin user /home/admin_name/"
   ]
  },
  {
   "cell_type": "markdown",
   "id": "ae696212-7fb9-4889-b87e-020a3922e28b",
   "metadata": {},
   "source": [
    "# Tien hanh"
   ]
  },
  {
   "cell_type": "markdown",
   "id": "c958439a-e8b8-446c-95e8-058f6da1eff5",
   "metadata": {},
   "source": [
    "<h3> Download 2 thu vien Pandas va openpyxl vao jupyterhub cua admin de doc du lieu cua file excel</h3>"
   ]
  },
  {
   "cell_type": "code",
   "execution_count": null,
   "id": "6df55a01-725c-4c53-8561-37a2cc128d56",
   "metadata": {},
   "outputs": [],
   "source": [
    "sudo /opt/jupyterhub/bin/python3 -m pip install pandas openpyxl"
   ]
  },
  {
   "cell_type": "markdown",
   "id": "1f6e3251-17f3-44bf-8296-55827ec6a5e8",
   "metadata": {
    "tags": []
   },
   "source": [
    "<h3> Vao file <b>source.py </b> cua folder Add_User_Jupyterhub de thay doi duong dan doc file </h3>\n",
    "<b> # Thay harry thanh ten admin user cua moi nguoi vao</b>"
   ]
  },
  {
   "cell_type": "code",
   "execution_count": null,
   "id": "cf5c6d98-283d-4651-b923-a455effc8fd9",
   "metadata": {},
   "outputs": [],
   "source": [
    "#!/usr/bin/python3\n",
    "import pandas as pd\n",
    "\n",
    "\n",
    "\n",
    "# Thay harry thanh ten admin user cua moi nguoi vao\n",
    "\n",
    "path = \"/home/harry/Add_User_JupyterHub/20KDL.xlsx\"\n",
    "\n",
    "\n",
    "\n",
    "\n",
    "\n",
    "def user_name(path):\n",
    "    data = pd.read_excel(path, engine = 'openpyxl', dtype = str)\n",
    "    list_user = []\n",
    "    row_number = len(data.index)\n",
    "    for i in range(row_number):    \n",
    "        new_user = int(data.iloc[i][0])\n",
    "        list_user.append(str(new_user) + \"_\")\n",
    "    return list_user\n",
    "def create_txt_file(List):\n",
    "    with open(\"List_Users.txt\", \"a\") as f:\n",
    "        f.seek(0)\n",
    "        f.truncate()\n",
    "        for i in List:\n",
    "            f.write(i + \"\\n\")\n",
    "\n",
    "users = user_name(path)\n",
    "create_txt_file(users)"
   ]
  },
  {
   "cell_type": "markdown",
   "id": "5e7f7fff-c50d-4055-8584-6ad1f7df36f1",
   "metadata": {},
   "source": [
    "<h3> Vi he thong khong cho dat ten chi toan la so nen em dat ten la MSSV_ (vd 20280001_ ), password la 1234 </h3>\n",
    "<b> Co the sua default passwd trong file DefaultPassword.txt o 2 dong dau tien </b>"
   ]
  },
  {
   "cell_type": "markdown",
   "id": "21cb5588-f686-49fc-bd35-abead98e0739",
   "metadata": {
    "tags": []
   },
   "source": [
    "<h3> Di vao file jupyterhub_config.py de chinh sua user </h3>"
   ]
  },
  {
   "cell_type": "code",
   "execution_count": null,
   "id": "4db5b406-7b0f-4cc7-a969-79bebf3e3606",
   "metadata": {},
   "outputs": [],
   "source": [
    "# Them doan code nay vao dau cua file \n",
    "\n",
    "# Tuong tu thay duong dan cua file du lieu\n",
    "# thay harry = admin's name\n",
    "\n",
    "\n",
    "#!/usr/bin/python3\n",
    "import sys \n",
    "import os\n",
    "sys.path.append(os.path.abspath(\"/home/harry/Add_User_JupyterHub\"))\n",
    "from source import users"
   ]
  },
  {
   "cell_type": "code",
   "execution_count": null,
   "id": "acb8d633-df4b-4829-b1c9-14e148ec8935",
   "metadata": {},
   "outputs": [],
   "source": [
    "# Tim den cau lenh va thay the \n",
    "\n",
    "# Thay c.Authenticator.admin_users = set() thanh \n",
    "\n",
    "c.Authenticator.admin_users = {\"harry\"} # thay harry = admin's name\n"
   ]
  },
  {
   "cell_type": "code",
   "execution_count": null,
   "id": "66cf4546-1728-4595-b1ae-f152f253884d",
   "metadata": {},
   "outputs": [],
   "source": [
    "# Tim den cau lenh va thay the \n",
    "\n",
    "# Thay c.Authenticator.allowed_users = set() thanh\n",
    "\n",
    "users.append(\"harry\") # thay harry = admin's name\n",
    "c.Authenticator.allowed_users = users"
   ]
  },
  {
   "cell_type": "markdown",
   "id": "97a8faa1-05b5-42b6-aef3-fdb316ec5cce",
   "metadata": {},
   "source": [
    "# Hoan tat va luu lai"
   ]
  },
  {
   "cell_type": "markdown",
   "id": "d493a58b-2f29-4f05-9e13-b04b01ffe123",
   "metadata": {},
   "source": [
    "<h3> Chuyen duong dan den thu muc Add_User_Jupyterhub </h3>"
   ]
  },
  {
   "cell_type": "code",
   "execution_count": null,
   "id": "7f3f06df-452e-47af-b8bc-d481048c2653",
   "metadata": {},
   "outputs": [],
   "source": [
    "cd /home/admin's name/Add_User_JupyterHub"
   ]
  },
  {
   "cell_type": "markdown",
   "id": "74a9951b-daaa-460f-8b63-b3ce2cbe3c13",
   "metadata": {},
   "source": [
    "<h3> Chay file shell script SettingPassword.sh, nhung de chay dc file ta can cap quyen cho no </h3>"
   ]
  },
  {
   "cell_type": "code",
   "execution_count": null,
   "id": "d3fc94d8-d76a-4b16-99cd-a63b2f4bbee9",
   "metadata": {},
   "outputs": [],
   "source": [
    "sudo chmod 755 SettingPassword.sh"
   ]
  },
  {
   "cell_type": "markdown",
   "id": "0c0451de-d058-4774-b12a-0525e1fc8eb4",
   "metadata": {},
   "source": [
    "<h3> Luu y khi chay file SettingPassword.sh se co hang loat thu muc tao ra, nen khi dang nhap lai may tinh co the co nhieu tai khoan dang nhap </h3>"
   ]
  },
  {
   "cell_type": "code",
   "execution_count": null,
   "id": "a947db3b-c1c4-479a-a2b0-f49c87dd4bb7",
   "metadata": {},
   "outputs": [],
   "source": [
    "sudo ./SettingPassWord.sh\n",
    "# co the doc file SettingPassWord.sh de biet nhung lenh thuc thi ben trong."
   ]
  },
  {
   "cell_type": "markdown",
   "id": "3d827de4-a10a-458d-8bc6-98b26df5a5a8",
   "metadata": {},
   "source": [
    "<h3> Vao kiem tra he thong bang admin, normal user </h3>"
   ]
  },
  {
   "cell_type": "code",
   "execution_count": null,
   "id": "8103f702-028e-42a7-8d37-a5a2458c024b",
   "metadata": {},
   "outputs": [],
   "source": [
    "# logout bang link \n",
    "\n",
    "http://localhost:8000/hub/logout \n"
   ]
  },
  {
   "cell_type": "markdown",
   "id": "270d94bf-0515-4fc2-ae61-71c0306c1e12",
   "metadata": {},
   "source": [
    "<h3> Co the xoa tat ca user bang file DeleteUser.sh, nho cap quyen cho no trc khi chay </h3>"
   ]
  },
  {
   "cell_type": "code",
   "execution_count": null,
   "id": "5a96becb-ce3d-4813-b718-07ddcb0d5910",
   "metadata": {},
   "outputs": [],
   "source": [
    "# Neu qua trinh co loi hay kiem tra trang thai cua jupyterhub\n",
    "# Neu trang thai bao loi khi khong nhan duoc thu vien pandas va openpyxl thi cai dat them cho ben ngoai jupyterhub luon\n",
    "\n",
    "sudo apt install pandas openpyxl "
   ]
  },
  {
   "cell_type": "markdown",
   "id": "5a0845ea",
   "metadata": {},
   "source": [
    "Tren day em chi lam voi hinh thuc la xong, nhung chua toi uu voi tien loi cho lam. No bat tien o cho la: Ten nguoi dung chua dat duoc, Thong tin chi tiet cung khong dung toi. Thay xem qua ak, e viet nay tren Linux Desktop nen k biet go tieng Viet sao.\n"
   ]
  }
 ],
 "metadata": {
  "kernelspec": {
   "display_name": "Python 3 (ipykernel)",
   "language": "python",
   "name": "python3"
  },
  "language_info": {
   "codemirror_mode": {
    "name": "ipython",
    "version": 3
   },
   "file_extension": ".py",
   "mimetype": "text/x-python",
   "name": "python",
   "nbconvert_exporter": "python",
   "pygments_lexer": "ipython3",
   "version": "3.8.10"
  }
 },
 "nbformat": 4,
 "nbformat_minor": 5
}
